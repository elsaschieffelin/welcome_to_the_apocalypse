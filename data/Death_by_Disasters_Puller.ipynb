{
 "cells": [
  {
   "cell_type": "code",
   "execution_count": 1,
   "metadata": {},
   "outputs": [],
   "source": [
    "# Dependencies\n",
    "from splinter import Browser\n",
    "from bs4 import BeautifulSoup\n",
    "import requests\n",
    "import pandas as pd"
   ]
  },
  {
   "cell_type": "code",
   "execution_count": 2,
   "metadata": {},
   "outputs": [],
   "source": [
    "# Use Chrome to scrape the following url\n",
    "executable_path = {'executable_path': 'chromedriver.exe'}\n",
    "browser = Browser('chrome', **executable_path, headless=False)"
   ]
  },
  {
   "cell_type": "code",
   "execution_count": 3,
   "metadata": {},
   "outputs": [],
   "source": [
    "# Url for disaster death\n",
    "url= 'https://ourworldindata.org/ofdacred-international-disaster-data'\n",
    "\n",
    "# Navigate to url\n",
    "browser.visit(url)"
   ]
  },
  {
   "cell_type": "code",
   "execution_count": 4,
   "metadata": {},
   "outputs": [
    {
     "name": "stdout",
     "output_type": "stream",
     "text": [
      "[['1900s', 130000, 17302, 0, 63, 0, 5, 13, 1801, 4494, 0], ['1910s', 8500, 6280, 0, 10138, 0, 0, 12, 5995, 648, 107], ['1920s', 472400, 54935, 0, 428, 0, 43, 0, 11999, 514, 10], ['1930s', 0, 23770, 169, 436147, 0, 103, 4, 9384, 318, 7], ['1940s', 345000, 16187, 0, 10103, 0, 1753, 0, 12712, 213, 25], ['1950s', 0, 2093, 150, 205830, 0, 215, 0, 3126, 510, 1], ['1960s', 150865, 5236, 113, 3239, 0, 504, 218, 13393, 324, 7], ['1970s', 11908, 44022, 155, 5078, 0, 738, 7, 35734, 53, 1], ['1980s', 55727, 6015, 534, 5155, 0, 623, 127, 4667, 2400, 40], ['1990s', 311, 10359, 932, 9549, 0, 833, 87, 21115, 97, 86], ['2000s', 115, 45364, 9106, 5401, 0, 772, 28, 17213, 24, 63], ['2010s', 3339, 43302, 11644, 5811, 0, 1069, 13, 3177, 71, 52]]\n"
     ]
    }
   ],
   "source": [
    "# List to store common and scientific names for each row of table\n",
    "cols = []\n",
    "\n",
    "# Parse HTML with BeautifulSoup\n",
    "soup = BeautifulSoup(browser.html, 'html.parser')\n",
    "\n",
    "# Find the table\n",
    "table = soup.find('table', class_='tablepress')\n",
    "\n",
    "\n",
    "# Retrieve all rows from tbody\n",
    "rows = table.tbody.find_all('tr')\n",
    "\n",
    "# Loop through each row to scrape column data of interest and append to \"cols\" list\n",
    "for row in rows:\n",
    "    col_queries = row.find_all('td')\n",
    "    col = [row_queries.text for row_queries in col_queries]\n",
    "\n",
    "    for i in range(1, len(col)):\n",
    "\n",
    "        col[i] = int(col[i])  \n",
    "    \n",
    "    cols.append(col)\n",
    "print(cols)\n",
    "# Retrieve row from thead\n",
    "th_row = table.thead.find('tr')\n",
    "\n",
    "# grab \"th\" from \"tr\"\n",
    "th_col_queries = th_row.find_all('th')\n",
    "\n",
    "# Scrape \"th\" data\n",
    "th_col = [th_row_queries.text for th_row_queries in th_col_queries]\n"
   ]
  },
  {
   "cell_type": "code",
   "execution_count": 5,
   "metadata": {},
   "outputs": [],
   "source": [
    "th_col[0] = \"Decades\""
   ]
  },
  {
   "cell_type": "code",
   "execution_count": 6,
   "metadata": {},
   "outputs": [
    {
     "data": {
      "text/html": [
       "<div>\n",
       "<style scoped>\n",
       "    .dataframe tbody tr th:only-of-type {\n",
       "        vertical-align: middle;\n",
       "    }\n",
       "\n",
       "    .dataframe tbody tr th {\n",
       "        vertical-align: top;\n",
       "    }\n",
       "\n",
       "    .dataframe thead th {\n",
       "        text-align: right;\n",
       "    }\n",
       "</style>\n",
       "<table border=\"1\" class=\"dataframe\">\n",
       "  <thead>\n",
       "    <tr style=\"text-align: right;\">\n",
       "      <th></th>\n",
       "      <th>Decades</th>\n",
       "      <th>Drought</th>\n",
       "      <th>Earthquake</th>\n",
       "      <th>Extreme temperature</th>\n",
       "      <th>Flood</th>\n",
       "      <th>Impact</th>\n",
       "      <th>Landslide</th>\n",
       "      <th>Mass movement (dry)</th>\n",
       "      <th>Storm</th>\n",
       "      <th>Volcanic activity</th>\n",
       "      <th>Wildfire</th>\n",
       "    </tr>\n",
       "  </thead>\n",
       "  <tbody>\n",
       "    <tr>\n",
       "      <th>0</th>\n",
       "      <td>1900s</td>\n",
       "      <td>130000</td>\n",
       "      <td>17302</td>\n",
       "      <td>0</td>\n",
       "      <td>63</td>\n",
       "      <td>0</td>\n",
       "      <td>5</td>\n",
       "      <td>13</td>\n",
       "      <td>1801</td>\n",
       "      <td>4494</td>\n",
       "      <td>0</td>\n",
       "    </tr>\n",
       "    <tr>\n",
       "      <th>1</th>\n",
       "      <td>1910s</td>\n",
       "      <td>8500</td>\n",
       "      <td>6280</td>\n",
       "      <td>0</td>\n",
       "      <td>10138</td>\n",
       "      <td>0</td>\n",
       "      <td>0</td>\n",
       "      <td>12</td>\n",
       "      <td>5995</td>\n",
       "      <td>648</td>\n",
       "      <td>107</td>\n",
       "    </tr>\n",
       "    <tr>\n",
       "      <th>2</th>\n",
       "      <td>1920s</td>\n",
       "      <td>472400</td>\n",
       "      <td>54935</td>\n",
       "      <td>0</td>\n",
       "      <td>428</td>\n",
       "      <td>0</td>\n",
       "      <td>43</td>\n",
       "      <td>0</td>\n",
       "      <td>11999</td>\n",
       "      <td>514</td>\n",
       "      <td>10</td>\n",
       "    </tr>\n",
       "    <tr>\n",
       "      <th>3</th>\n",
       "      <td>1930s</td>\n",
       "      <td>0</td>\n",
       "      <td>23770</td>\n",
       "      <td>169</td>\n",
       "      <td>436147</td>\n",
       "      <td>0</td>\n",
       "      <td>103</td>\n",
       "      <td>4</td>\n",
       "      <td>9384</td>\n",
       "      <td>318</td>\n",
       "      <td>7</td>\n",
       "    </tr>\n",
       "    <tr>\n",
       "      <th>4</th>\n",
       "      <td>1940s</td>\n",
       "      <td>345000</td>\n",
       "      <td>16187</td>\n",
       "      <td>0</td>\n",
       "      <td>10103</td>\n",
       "      <td>0</td>\n",
       "      <td>1753</td>\n",
       "      <td>0</td>\n",
       "      <td>12712</td>\n",
       "      <td>213</td>\n",
       "      <td>25</td>\n",
       "    </tr>\n",
       "  </tbody>\n",
       "</table>\n",
       "</div>"
      ],
      "text/plain": [
       "  Decades  Drought  Earthquake  Extreme temperature   Flood  Impact  \\\n",
       "0   1900s   130000       17302                    0      63       0   \n",
       "1   1910s     8500        6280                    0   10138       0   \n",
       "2   1920s   472400       54935                    0     428       0   \n",
       "3   1930s        0       23770                  169  436147       0   \n",
       "4   1940s   345000       16187                    0   10103       0   \n",
       "\n",
       "   Landslide  Mass movement (dry)  Storm  Volcanic activity  Wildfire  \n",
       "0          5                   13   1801               4494         0  \n",
       "1          0                   12   5995                648       107  \n",
       "2         43                    0  11999                514        10  \n",
       "3        103                    4   9384                318         7  \n",
       "4       1753                    0  12712                213        25  "
      ]
     },
     "execution_count": 6,
     "metadata": {},
     "output_type": "execute_result"
    }
   ],
   "source": [
    "# Setup a Pandas DataFrame to store scraped data\n",
    "data_df = pd.DataFrame(columns=th_col)\n",
    "\n",
    "for i in range(len(th_col)):\n",
    "    data_df[th_col[i]] = [cols[j][i] for j in range(len(cols))]\n",
    "\n",
    "# Preview \"name_df\"\n",
    "data_df.head()"
   ]
  },
  {
   "cell_type": "code",
   "execution_count": 7,
   "metadata": {},
   "outputs": [],
   "source": [
    "# Close the browser\n",
    "browser.quit()"
   ]
  },
  {
   "cell_type": "code",
   "execution_count": 8,
   "metadata": {},
   "outputs": [],
   "source": [
    "# Save df as csv file\n",
    "data_df.to_csv(\"death_by_disasters.csv\", index=False, header=True)"
   ]
  }
 ],
 "metadata": {
  "kernelspec": {
   "display_name": "Python 3",
   "language": "python",
   "name": "python3"
  },
  "language_info": {
   "codemirror_mode": {
    "name": "ipython",
    "version": 3
   },
   "file_extension": ".py",
   "mimetype": "text/x-python",
   "name": "python",
   "nbconvert_exporter": "python",
   "pygments_lexer": "ipython3",
   "version": "3.7.1"
  }
 },
 "nbformat": 4,
 "nbformat_minor": 2
}
